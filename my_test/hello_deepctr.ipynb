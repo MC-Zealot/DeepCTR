{
 "cells": [
  {
   "cell_type": "markdown",
   "metadata": {},
   "source": [
    "### Step 1: Import model"
   ]
  },
  {
   "cell_type": "code",
   "execution_count": 37,
   "metadata": {},
   "outputs": [],
   "source": [
    "import pandas as pd\n",
    "from sklearn.preprocessing import LabelEncoder, MinMaxScaler\n",
    "from sklearn.model_selection import train_test_split\n",
    "from deepctr.models import DeepFM\n",
    "from deepctr.feature_column import SparseFeat, DenseFeat,get_feature_names\n",
    "import numpy as np\n",
    "\n",
    "data = pd.read_csv('./criteo_sample.txt')\n",
    "\n",
    "sparse_features = ['C' + str(i) for i in range(1, 27)]\n",
    "dense_features = ['I'+str(i) for i in range(1, 14)]\n",
    "\n",
    "data[sparse_features] = data[sparse_features].fillna('-1', )\n",
    "data[dense_features] = data[dense_features].fillna(0,)\n",
    "target = ['label']"
   ]
  },
  {
   "cell_type": "code",
   "execution_count": 38,
   "metadata": {
    "pycharm": {
     "name": "#%%\n"
    }
   },
   "outputs": [
    {
     "name": "stdout",
     "output_type": "stream",
     "text": [
      "['C1', 'C2', 'C3', 'C4', 'C5', 'C6', 'C7', 'C8', 'C9', 'C10', 'C11', 'C12', 'C13', 'C14', 'C15', 'C16', 'C17', 'C18', 'C19', 'C20', 'C21', 'C22', 'C23', 'C24', 'C25', 'C26']\n"
     ]
    }
   ],
   "source": [
    "print(sparse_features)"
   ]
  },
  {
   "cell_type": "code",
   "execution_count": 39,
   "metadata": {},
   "outputs": [
    {
     "name": "stdout",
     "output_type": "stream",
     "text": [
      "['I1', 'I2', 'I3', 'I4', 'I5', 'I6', 'I7', 'I8', 'I9', 'I10', 'I11', 'I12', 'I13']\n"
     ]
    }
   ],
   "source": [
    "print(dense_features)"
   ]
  },
  {
   "cell_type": "code",
   "execution_count": 40,
   "metadata": {
    "scrolled": true
   },
   "outputs": [
    {
     "name": "stdout",
     "output_type": "stream",
     "text": [
      "(200, 40)\n",
      "   label    I1   I2     I3    I4       I5     I6    I7    I8     I9  ...  \\\n",
      "0      0   0.0    3  260.0   0.0  17668.0    0.0   0.0  33.0    0.0  ...   \n",
      "1      0   0.0   -1   19.0  35.0  30251.0  247.0   1.0  35.0  160.0  ...   \n",
      "2      0   0.0    0    2.0  12.0   2013.0  164.0   6.0  35.0  523.0  ...   \n",
      "3      0   0.0   13    1.0   4.0  16836.0  200.0   5.0   4.0   29.0  ...   \n",
      "4      0   0.0    0  104.0  27.0   1990.0  142.0   4.0  32.0   37.0  ...   \n",
      "5      0   0.0   -1   63.0  40.0   1470.0   61.0   4.0  37.0   46.0  ...   \n",
      "6      0   0.0  370    4.0   1.0   1787.0   65.0  14.0  25.0  489.0  ...   \n",
      "7      1  19.0   10   30.0  10.0      1.0    3.0  33.0  47.0  126.0  ...   \n",
      "8      0   0.0    0   36.0  22.0   4684.0  217.0   9.0  35.0  135.0  ...   \n",
      "9      0   2.0   11    8.0  23.0     30.0   11.0   2.0   8.0   23.0  ...   \n",
      "\n",
      "        C17       C18       C19       C20       C21 C22       C23       C24  \\\n",
      "0  e5ba7672  87c6f83c        -1        -1  0429f84b  -1  3a171ecb  c0d61a5c   \n",
      "1  d4bb7bd8  6fc84bfb        -1        -1  5155d8a3  -1  be7c41b4  ded4aac9   \n",
      "2  e5ba7672  675c9258        -1        -1  2e01979f  -1  bcdee96c  6d5d1302   \n",
      "3  e5ba7672  52e44668        -1        -1  e587c466  -1  32c7478e  3b183c5c   \n",
      "4  e5ba7672  25c88e42  21ddcdc9  b1252a9d  0e8585d2  -1  32c7478e  0d4a6d1a   \n",
      "5  e5ba7672  d3303ea5  21ddcdc9  b1252a9d  7633c7c8  -1  32c7478e  17f458f7   \n",
      "6  3486227d  642f2610  55dd3565  b1252a9d  5c8dc711  -1  423fab69  45ab94c8   \n",
      "7  e5ba7672  a78bd508  21ddcdc9  5840adea  c2a93b37  -1  32c7478e  1793a828   \n",
      "8  e5ba7672  7ce63c71        -1        -1  af5dc647  -1  dbb486d7  1793a828   \n",
      "9  07c540c4  c21c3e4c  21ddcdc9  a458ea53  31c8e642  -1  c7dc6720  3e983c86   \n",
      "\n",
      "        C25       C26  \n",
      "0        -1        -1  \n",
      "1        -1        -1  \n",
      "2        -1        -1  \n",
      "3        -1        -1  \n",
      "4  001f3601  92c878de  \n",
      "5  001f3601  71236095  \n",
      "6  2bf691b1  c84c4aec  \n",
      "7  e8b83407  2fede552  \n",
      "8        -1        -1  \n",
      "9  9b3e8820  d597922b  \n",
      "\n",
      "[10 rows x 40 columns]\n"
     ]
    }
   ],
   "source": [
    "print(np.shape(data))\n",
    "print(data[0:10])"
   ]
  },
  {
   "cell_type": "markdown",
   "metadata": {},
   "source": [
    "### Step 2: Simple preprocessing\n",
    "**Label Encoding: map the features to integer value from 0 ~ len(#unique) - 1**"
   ]
  },
  {
   "cell_type": "code",
   "execution_count": 41,
   "metadata": {},
   "outputs": [],
   "source": [
    "for feat in sparse_features:\n",
    "    lbe = LabelEncoder()\n",
    "    data[feat] = lbe.fit_transform(data[feat])"
   ]
  },
  {
   "cell_type": "markdown",
   "metadata": {},
   "source": [
    "**Hash Encoding: map the features to a fix range,like 0 ~ 9999.We have 2 methods to do that:**\n",
    "\n",
    "Do feature hashing before training"
   ]
  },
  {
   "cell_type": "code",
   "execution_count": 16,
   "metadata": {
    "collapsed": true
   },
   "outputs": [
    {
     "ename": "NameError",
     "evalue": "name 'HashEncoder' is not defined",
     "output_type": "error",
     "traceback": [
      "\u001b[0;31m---------------------------------------------------------------------------\u001b[0m",
      "\u001b[0;31mNameError\u001b[0m                                 Traceback (most recent call last)",
      "\u001b[0;32m<ipython-input-16-9bb0f54c8968>\u001b[0m in \u001b[0;36m<module>\u001b[0;34m\u001b[0m\n\u001b[1;32m      1\u001b[0m \u001b[0;32mfor\u001b[0m \u001b[0mfeat\u001b[0m \u001b[0;32min\u001b[0m \u001b[0msparse_features\u001b[0m\u001b[0;34m:\u001b[0m\u001b[0;34m\u001b[0m\u001b[0;34m\u001b[0m\u001b[0m\n\u001b[0;32m----> 2\u001b[0;31m     \u001b[0mlbe\u001b[0m \u001b[0;34m=\u001b[0m \u001b[0mHashEncoder\u001b[0m\u001b[0;34m(\u001b[0m\u001b[0;34m)\u001b[0m\u001b[0;34m\u001b[0m\u001b[0;34m\u001b[0m\u001b[0m\n\u001b[0m\u001b[1;32m      3\u001b[0m     \u001b[0mdata\u001b[0m\u001b[0;34m[\u001b[0m\u001b[0mfeat\u001b[0m\u001b[0;34m]\u001b[0m \u001b[0;34m=\u001b[0m \u001b[0mlbe\u001b[0m\u001b[0;34m.\u001b[0m\u001b[0mtransform\u001b[0m\u001b[0;34m(\u001b[0m\u001b[0mdata\u001b[0m\u001b[0;34m[\u001b[0m\u001b[0mfeat\u001b[0m\u001b[0;34m]\u001b[0m\u001b[0;34m)\u001b[0m\u001b[0;34m\u001b[0m\u001b[0;34m\u001b[0m\u001b[0m\n",
      "\u001b[0;31mNameError\u001b[0m: name 'HashEncoder' is not defined"
     ]
    }
   ],
   "source": [
    "for feat in sparse_features:\n",
    "    lbe = HashEncoder()\n",
    "    data[feat] = lbe.transform(data[feat])"
   ]
  },
  {
   "cell_type": "markdown",
   "metadata": {},
   "source": [
    "Do feature hashing on the fly in training process\n",
    "\n",
    "We can do feature hashing by setting use_hash=True in SparseFeat or VarlenSparseFeat in Step3."
   ]
  },
  {
   "cell_type": "markdown",
   "metadata": {},
   "source": [
    "**And for dense numerical features,they are usually discretized to buckets,here we use normalization.**"
   ]
  },
  {
   "cell_type": "code",
   "execution_count": 42,
   "metadata": {},
   "outputs": [],
   "source": [
    "mms = MinMaxScaler(feature_range=(0,1))\n",
    "data[dense_features] = mms.fit_transform(data[dense_features])"
   ]
  },
  {
   "cell_type": "markdown",
   "metadata": {},
   "source": [
    "### Step 3: Generate feature columns\n",
    "\n",
    "For sparse features, we transform them into dense vectors by embedding techniques. For dense numerical features, we concatenate them to the input tensors of fully connected layer.\n",
    "\n",
    "And for varlen(multi-valued) sparse features,you can use VarlenSparseFeat. Visit examples of using VarlenSparseFeat\n",
    "\n",
    "**Label Encoding**"
   ]
  },
  {
   "cell_type": "code",
   "execution_count": 43,
   "metadata": {},
   "outputs": [],
   "source": [
    "fixlen_feature_columns = [SparseFeat(feat, vocabulary_size=data[feat].nunique(),embedding_dim=4)\n",
    "                       for i,feat in enumerate(sparse_features)] + [DenseFeat(feat, 1,)\n",
    "                      for feat in dense_features]"
   ]
  },
  {
   "cell_type": "markdown",
   "metadata": {},
   "source": [
    "**Feature Hashing on the fly**"
   ]
  },
  {
   "cell_type": "code",
   "execution_count": 26,
   "metadata": {},
   "outputs": [],
   "source": [
    "fixlen_feature_columns = [SparseFeat(feat, vocabulary_size=1e6,embedding_dim=4, use_hash=True, dtype='string')  # since the input is string\n",
    "                              for feat in sparse_features] + [DenseFeat(feat, 1, )\n",
    "                          for feat in dense_features]"
   ]
  },
  {
   "cell_type": "code",
   "execution_count": 30,
   "metadata": {},
   "outputs": [
    {
     "name": "stdout",
     "output_type": "stream",
     "text": [
      "[SparseFeat(name='C1', vocabulary_size=27, embedding_dim=4, use_hash=False, dtype='int32', embeddings_initializer=<tensorflow.python.keras.initializers.RandomNormal object at 0x1a3e751a50>, embedding_name='C1', group_name='default_group', trainable=True), SparseFeat(name='C2', vocabulary_size=92, embedding_dim=4, use_hash=False, dtype='int32', embeddings_initializer=<tensorflow.python.keras.initializers.RandomNormal object at 0x1a3e751b10>, embedding_name='C2', group_name='default_group', trainable=True), SparseFeat(name='C3', vocabulary_size=172, embedding_dim=4, use_hash=False, dtype='int32', embeddings_initializer=<tensorflow.python.keras.initializers.RandomNormal object at 0x1a3eafb310>, embedding_name='C3', group_name='default_group', trainable=True), SparseFeat(name='C4', vocabulary_size=157, embedding_dim=4, use_hash=False, dtype='int32', embeddings_initializer=<tensorflow.python.keras.initializers.RandomNormal object at 0x1a3eafbc90>, embedding_name='C4', group_name='default_group', trainable=True), SparseFeat(name='C5', vocabulary_size=12, embedding_dim=4, use_hash=False, dtype='int32', embeddings_initializer=<tensorflow.python.keras.initializers.RandomNormal object at 0x1a3eafb190>, embedding_name='C5', group_name='default_group', trainable=True), SparseFeat(name='C6', vocabulary_size=7, embedding_dim=4, use_hash=False, dtype='int32', embeddings_initializer=<tensorflow.python.keras.initializers.RandomNormal object at 0x1a3eafbb10>, embedding_name='C6', group_name='default_group', trainable=True), SparseFeat(name='C7', vocabulary_size=183, embedding_dim=4, use_hash=False, dtype='int32', embeddings_initializer=<tensorflow.python.keras.initializers.RandomNormal object at 0x1a3eafbcd0>, embedding_name='C7', group_name='default_group', trainable=True), SparseFeat(name='C8', vocabulary_size=19, embedding_dim=4, use_hash=False, dtype='int32', embeddings_initializer=<tensorflow.python.keras.initializers.RandomNormal object at 0x1a3eafb6d0>, embedding_name='C8', group_name='default_group', trainable=True), SparseFeat(name='C9', vocabulary_size=2, embedding_dim=4, use_hash=False, dtype='int32', embeddings_initializer=<tensorflow.python.keras.initializers.RandomNormal object at 0x1a3eafb5d0>, embedding_name='C9', group_name='default_group', trainable=True), SparseFeat(name='C10', vocabulary_size=142, embedding_dim=4, use_hash=False, dtype='int32', embeddings_initializer=<tensorflow.python.keras.initializers.RandomNormal object at 0x1a3eafb450>, embedding_name='C10', group_name='default_group', trainable=True), SparseFeat(name='C11', vocabulary_size=173, embedding_dim=4, use_hash=False, dtype='int32', embeddings_initializer=<tensorflow.python.keras.initializers.RandomNormal object at 0x1a3eafbed0>, embedding_name='C11', group_name='default_group', trainable=True), SparseFeat(name='C12', vocabulary_size=170, embedding_dim=4, use_hash=False, dtype='int32', embeddings_initializer=<tensorflow.python.keras.initializers.RandomNormal object at 0x1a3eafbf50>, embedding_name='C12', group_name='default_group', trainable=True), SparseFeat(name='C13', vocabulary_size=166, embedding_dim=4, use_hash=False, dtype='int32', embeddings_initializer=<tensorflow.python.keras.initializers.RandomNormal object at 0x1a3eafb850>, embedding_name='C13', group_name='default_group', trainable=True), SparseFeat(name='C14', vocabulary_size=14, embedding_dim=4, use_hash=False, dtype='int32', embeddings_initializer=<tensorflow.python.keras.initializers.RandomNormal object at 0x1a3eafb890>, embedding_name='C14', group_name='default_group', trainable=True), SparseFeat(name='C15', vocabulary_size=170, embedding_dim=4, use_hash=False, dtype='int32', embeddings_initializer=<tensorflow.python.keras.initializers.RandomNormal object at 0x1a3eafb4d0>, embedding_name='C15', group_name='default_group', trainable=True), SparseFeat(name='C16', vocabulary_size=168, embedding_dim=4, use_hash=False, dtype='int32', embeddings_initializer=<tensorflow.python.keras.initializers.RandomNormal object at 0x1a3eafb950>, embedding_name='C16', group_name='default_group', trainable=True), SparseFeat(name='C17', vocabulary_size=9, embedding_dim=4, use_hash=False, dtype='int32', embeddings_initializer=<tensorflow.python.keras.initializers.RandomNormal object at 0x1a3eafbd90>, embedding_name='C17', group_name='default_group', trainable=True), SparseFeat(name='C18', vocabulary_size=127, embedding_dim=4, use_hash=False, dtype='int32', embeddings_initializer=<tensorflow.python.keras.initializers.RandomNormal object at 0x1a3eafb550>, embedding_name='C18', group_name='default_group', trainable=True), SparseFeat(name='C19', vocabulary_size=44, embedding_dim=4, use_hash=False, dtype='int32', embeddings_initializer=<tensorflow.python.keras.initializers.RandomNormal object at 0x1a3e6e9d10>, embedding_name='C19', group_name='default_group', trainable=True), SparseFeat(name='C20', vocabulary_size=4, embedding_dim=4, use_hash=False, dtype='int32', embeddings_initializer=<tensorflow.python.keras.initializers.RandomNormal object at 0x1a3e651810>, embedding_name='C20', group_name='default_group', trainable=True), SparseFeat(name='C21', vocabulary_size=169, embedding_dim=4, use_hash=False, dtype='int32', embeddings_initializer=<tensorflow.python.keras.initializers.RandomNormal object at 0x1a3e6e9750>, embedding_name='C21', group_name='default_group', trainable=True), SparseFeat(name='C22', vocabulary_size=6, embedding_dim=4, use_hash=False, dtype='int32', embeddings_initializer=<tensorflow.python.keras.initializers.RandomNormal object at 0x1a3e6e9c50>, embedding_name='C22', group_name='default_group', trainable=True), SparseFeat(name='C23', vocabulary_size=10, embedding_dim=4, use_hash=False, dtype='int32', embeddings_initializer=<tensorflow.python.keras.initializers.RandomNormal object at 0x115bb5650>, embedding_name='C23', group_name='default_group', trainable=True), SparseFeat(name='C24', vocabulary_size=125, embedding_dim=4, use_hash=False, dtype='int32', embeddings_initializer=<tensorflow.python.keras.initializers.RandomNormal object at 0x115bb56d0>, embedding_name='C24', group_name='default_group', trainable=True), SparseFeat(name='C25', vocabulary_size=20, embedding_dim=4, use_hash=False, dtype='int32', embeddings_initializer=<tensorflow.python.keras.initializers.RandomNormal object at 0x115bb5710>, embedding_name='C25', group_name='default_group', trainable=True), SparseFeat(name='C26', vocabulary_size=90, embedding_dim=4, use_hash=False, dtype='int32', embeddings_initializer=<tensorflow.python.keras.initializers.RandomNormal object at 0x115bb5750>, embedding_name='C26', group_name='default_group', trainable=True), DenseFeat(name='I1', dimension=1, dtype='float32'), DenseFeat(name='I2', dimension=1, dtype='float32'), DenseFeat(name='I3', dimension=1, dtype='float32'), DenseFeat(name='I4', dimension=1, dtype='float32'), DenseFeat(name='I5', dimension=1, dtype='float32'), DenseFeat(name='I6', dimension=1, dtype='float32'), DenseFeat(name='I7', dimension=1, dtype='float32'), DenseFeat(name='I8', dimension=1, dtype='float32'), DenseFeat(name='I9', dimension=1, dtype='float32'), DenseFeat(name='I10', dimension=1, dtype='float32'), DenseFeat(name='I11', dimension=1, dtype='float32'), DenseFeat(name='I12', dimension=1, dtype='float32'), DenseFeat(name='I13', dimension=1, dtype='float32')]\n"
     ]
    }
   ],
   "source": [
    "print(fixlen_feature_columns)"
   ]
  },
  {
   "cell_type": "markdown",
   "metadata": {},
   "source": [
    "**generate feature columns**"
   ]
  },
  {
   "cell_type": "code",
   "execution_count": 44,
   "metadata": {},
   "outputs": [],
   "source": [
    "dnn_feature_columns = fixlen_feature_columns\n",
    "linear_feature_columns = fixlen_feature_columns\n",
    "\n",
    "feature_names = get_feature_names(linear_feature_columns + dnn_feature_columns)"
   ]
  },
  {
   "cell_type": "code",
   "execution_count": 45,
   "metadata": {},
   "outputs": [
    {
     "name": "stdout",
     "output_type": "stream",
     "text": [
      "['C1', 'C2', 'C3', 'C4', 'C5', 'C6', 'C7', 'C8', 'C9', 'C10', 'C11', 'C12', 'C13', 'C14', 'C15', 'C16', 'C17', 'C18', 'C19', 'C20', 'C21', 'C22', 'C23', 'C24', 'C25', 'C26', 'I1', 'I2', 'I3', 'I4', 'I5', 'I6', 'I7', 'I8', 'I9', 'I10', 'I11', 'I12', 'I13']\n"
     ]
    }
   ],
   "source": [
    "print(feature_names)"
   ]
  },
  {
   "cell_type": "markdown",
   "metadata": {},
   "source": [
    "### Step 4: Generate the training samples and train the model"
   ]
  },
  {
   "cell_type": "code",
   "execution_count": 46,
   "metadata": {},
   "outputs": [
    {
     "name": "stdout",
     "output_type": "stream",
     "text": [
      "Train on 128 samples, validate on 32 samples\n",
      "Epoch 1/10\n"
     ]
    },
    {
     "name": "stderr",
     "output_type": "stream",
     "text": [
      "/Users/taoyizhou/miniconda3/lib/python3.7/site-packages/tensorflow_core/python/framework/indexed_slices.py:424: UserWarning: Converting sparse IndexedSlices to a dense Tensor of unknown shape. This may consume a large amount of memory.\n",
      "  \"Converting sparse IndexedSlices to a dense Tensor of unknown shape. \"\n",
      "/Users/taoyizhou/miniconda3/lib/python3.7/site-packages/tensorflow_core/python/framework/indexed_slices.py:424: UserWarning: Converting sparse IndexedSlices to a dense Tensor of unknown shape. This may consume a large amount of memory.\n",
      "  \"Converting sparse IndexedSlices to a dense Tensor of unknown shape. \"\n"
     ]
    },
    {
     "name": "stdout",
     "output_type": "stream",
     "text": [
      "128/128 - 9s - loss: 0.6810 - binary_crossentropy: 0.6810 - val_loss: 0.6698 - val_binary_crossentropy: 0.6698\n",
      "Epoch 2/10\n",
      "128/128 - 0s - loss: 0.6630 - binary_crossentropy: 0.6630 - val_loss: 0.6657 - val_binary_crossentropy: 0.6657\n",
      "Epoch 3/10\n",
      "128/128 - 0s - loss: 0.6462 - binary_crossentropy: 0.6462 - val_loss: 0.6623 - val_binary_crossentropy: 0.6622\n",
      "Epoch 4/10\n",
      "128/128 - 0s - loss: 0.6303 - binary_crossentropy: 0.6303 - val_loss: 0.6594 - val_binary_crossentropy: 0.6593\n",
      "Epoch 5/10\n",
      "128/128 - 0s - loss: 0.6152 - binary_crossentropy: 0.6152 - val_loss: 0.6570 - val_binary_crossentropy: 0.6570\n",
      "Epoch 6/10\n",
      "128/128 - 0s - loss: 0.6006 - binary_crossentropy: 0.6005 - val_loss: 0.6550 - val_binary_crossentropy: 0.6549\n",
      "Epoch 7/10\n",
      "128/128 - 0s - loss: 0.5864 - binary_crossentropy: 0.5864 - val_loss: 0.6532 - val_binary_crossentropy: 0.6532\n",
      "Epoch 8/10\n",
      "128/128 - 0s - loss: 0.5725 - binary_crossentropy: 0.5724 - val_loss: 0.6518 - val_binary_crossentropy: 0.6518\n",
      "Epoch 9/10\n",
      "128/128 - 0s - loss: 0.5587 - binary_crossentropy: 0.5587 - val_loss: 0.6510 - val_binary_crossentropy: 0.6509\n",
      "Epoch 10/10\n",
      "128/128 - 0s - loss: 0.5450 - binary_crossentropy: 0.5450 - val_loss: 0.6506 - val_binary_crossentropy: 0.6506\n"
     ]
    }
   ],
   "source": [
    "train, test = train_test_split(data, test_size=0.2)\n",
    "\n",
    "train_model_input = {name:train[name].values for name in feature_names}\n",
    "test_model_input = {name:test[name].values for name in feature_names}\n",
    "\n",
    "\n",
    "model = DeepFM(linear_feature_columns, dnn_feature_columns,task='binary')\n",
    "model.compile(\"adam\", \"binary_crossentropy\", metrics=['binary_crossentropy'], )\n",
    "\n",
    "history = model.fit(train_model_input, train[target].values, \n",
    "                    batch_size=256, epochs=10, verbose=2, validation_split=0.2, )\n",
    "pred_ans = model.predict(test_model_input, batch_size=256)"
   ]
  },
  {
   "cell_type": "code",
   "execution_count": 35,
   "metadata": {},
   "outputs": [
    {
     "name": "stdout",
     "output_type": "stream",
     "text": [
      "{'C1': array([16,  0, 11, 11, 21,  0,  0, 16, 20,  0, 11, 25,  9, 11,  0, 11, 18,\n",
      "        0,  0, 18,  0,  1,  0,  0,  0, 11, 12,  0, 11, 16,  9, 21,  0,  0,\n",
      "       16,  0, 16, 11,  0,  0]), 'C2': array([ 5, 30, 84,  5, 89,  8, 33,  7, 54, 72, 13, 50, 15, 85, 30, 10, 10,\n",
      "        6, 11,  5, 31, 30, 38, 14, 72, 24, 13,  4, 16, 82, 39, 66,  5, 88,\n",
      "       53, 87,  5, 79, 46, 30]), 'C3': array([114, 165, 104,  62,  81,  70,  23, 141, 120, 127,  36, 160,   9,\n",
      "       171,  61,  38,  93,  82,  59,   5, 101,  10, 103, 168,  89, 159,\n",
      "       126,  96,  15,  49, 121,  51,  54, 122,   0,  87, 167, 164, 156,\n",
      "        74]), 'C4': array([ 76, 147,  71,  16,  21,  37,  78,  85, 121, 152,  18,   6,  47,\n",
      "        80, 136,  89,  33, 128,  77, 123, 137,  44,  92,   6, 132,   4,\n",
      "       124, 146,  28,  14, 128,  24, 119,  43,   0, 115,  86,  23,  76,\n",
      "        64]), 'C5': array([1, 1, 1, 1, 6, 6, 1, 1, 3, 1, 1, 1, 6, 1, 9, 5, 1, 5, 1, 1, 0, 6,\n",
      "       5, 1, 5, 1, 1, 1, 6, 1, 6, 1, 1, 1, 1, 1, 1, 1, 6, 6]), 'C6': array([4, 6, 4, 1, 0, 5, 1, 6, 5, 4, 0, 2, 4, 5, 4, 4, 0, 5, 5, 0, 4, 6,\n",
      "       0, 0, 5, 4, 0, 4, 5, 5, 4, 4, 5, 4, 4, 3, 5, 4, 0, 4]), 'C7': array([114,  26,  74,  65,  73, 139,  89,  34, 128,   8, 108, 147, 148,\n",
      "        16,  37, 166, 172, 146,  18,  57, 152, 163,  76, 149, 144,  25,\n",
      "        71, 163, 113,   1,  45,  11, 117, 134,  70,  62,  90,  23,  69,\n",
      "        29]), 'C8': array([ 4,  1,  1,  1,  1,  1, 11,  1,  5,  1,  1,  4,  1,  1,  1,  1,  1,\n",
      "        1,  1,  1, 10,  1, 17,  1,  7,  7,  1,  1,  1,  1,  1,  2,  1,  7,\n",
      "        1, 18, 18,  7,  1, 13]), 'C9': array([1, 1, 1, 1, 1, 1, 1, 1, 1, 1, 0, 1, 1, 1, 1, 1, 1, 1, 1, 1, 1, 1,\n",
      "       1, 1, 1, 1, 1, 1, 0, 1, 1, 1, 1, 1, 1, 1, 1, 1, 1, 1]), 'C10': array([ 10, 111,  30,  75,  42,  30,  26,  30, 117, 140,  30,  78,  30,\n",
      "        21,  36,  15,  67,  30,  45,  81,  30, 113,   4,  30,  30,  57,\n",
      "        65,  72, 115,  56,  70,  18, 119,  19,  30,  32,  63, 133, 101,\n",
      "       110]), 'C11': array([155, 131,  20,  30,  46,  97,  59, 145, 141,  62, 164, 120, 112,\n",
      "       172,  18, 123,  11,  55, 171, 137, 133, 117,   6,  10,  57,  77,\n",
      "         0, 117, 108, 101,  76,   2, 165,  78,  94,  84,  83, 147, 150,\n",
      "        98]), 'C12': array([150, 131,  76, 151,  86, 163,  80,  15,  36,  84, 129, 110, 105,\n",
      "         2, 102,  59,  42, 115, 162, 165,  12,  33,  68,  14,  17,   7,\n",
      "        81, 127,  22,  19, 154,  50,  24,  99,   0, 140, 136, 159,  57,\n",
      "       120]), 'C13': array([151,  58, 149,  69, 113,  29,  34,   0,  22,  19,  72, 102,  27,\n",
      "       105, 140,  42, 137, 116,  96,  59,  38, 157, 163,  49, 107,  62,\n",
      "        13, 157,   5, 118, 135, 124, 142,  75,  70,  80, 154, 112,  52,\n",
      "       129]), 'C14': array([ 5,  1,  1,  8,  7,  7,  4,  2,  2,  7,  7,  1,  1, 13,  1,  2,  7,\n",
      "        1,  4,  2,  1,  1,  5,  1,  1,  2, 12,  7,  4,  2,  7,  3, 12,  7,\n",
      "        4,  7,  2,  7,  7,  7]), 'C15': array([141, 150, 121,  21,  93,  58,  29,  31, 108,  28, 104,  63,  42,\n",
      "        94,  65, 158, 143, 122,  36, 148, 112, 150,  52,  39, 119,  75,\n",
      "        44, 127, 128,  74, 161, 117,  62,  27,   1,   6, 148, 103, 109,\n",
      "        91]), 'C16': array([132,  41, 167,  64, 106,   2,  90, 122, 120, 114,  54,  14,  67,\n",
      "       137, 144,  25,  51,  40, 121,  20,  60,  65,  36,  52,  33,  85,\n",
      "       118, 126,  50,  76,  10, 134,  35,  37,   0,  63,   5,  39, 113,\n",
      "        18]), 'C17': array([6, 8, 7, 4, 0, 0, 8, 8, 6, 8, 2, 4, 5, 8, 7, 4, 3, 3, 8, 8, 7, 8,\n",
      "       8, 4, 5, 8, 6, 8, 4, 8, 8, 8, 8, 8, 7, 8, 8, 1, 8, 8]), 'C18': array([ 45,  61,   7,  40,  35, 100,  97,  57,  47,  65,  69,  85, 120,\n",
      "        29,  91, 117, 117,  18,  14,  40, 125,  61,  70,  46,  38,  34,\n",
      "        69,  66, 122, 108,  53, 112,  40,  68,  62,  79,  40, 101,   1,\n",
      "        61]), 'C19': array([37, 27, 18, 30, 19,  0,  5,  0,  5,  5, 24, 18,  0,  4, 43, 40, 24,\n",
      "        0,  5,  5,  5,  9,  5, 18,  5,  5, 18,  0,  0,  0,  0,  0, 14,  0,\n",
      "        0,  5,  5,  5,  5,  5]), 'C20': array([1, 2, 3, 2, 1, 0, 1, 0, 1, 1, 3, 3, 0, 2, 2, 2, 3, 0, 3, 1, 1, 3,\n",
      "       3, 3, 1, 1, 3, 0, 0, 0, 0, 0, 3, 0, 0, 3, 3, 1, 1, 3]), 'C21': array([ 60, 143, 114, 122,  82,  37,   7, 113,  22, 125, 129,  91,  35,\n",
      "        21, 106,  48, 101, 150,   9,  44,  40, 137, 133,  58, 141,  43,\n",
      "       104,   3,  55,  54,  76,  17, 167,  46,   0, 112, 149,  38,  83,\n",
      "       102]), 'C22': array([5, 5, 3, 0, 0, 0, 0, 0, 5, 1, 0, 3, 3, 0, 0, 0, 0, 0, 0, 0, 0, 0,\n",
      "       0, 0, 0, 0, 0, 0, 0, 0, 0, 0, 5, 0, 0, 2, 0, 0, 0, 0]), 'C23': array([3, 2, 2, 1, 0, 6, 0, 9, 3, 0, 0, 2, 0, 3, 0, 2, 6, 1, 0, 0, 8, 8,\n",
      "       0, 2, 7, 0, 0, 1, 1, 0, 1, 1, 0, 8, 0, 0, 2, 1, 0, 8]), 'C24': array([ 12,  35,  35,  89,  35,   3,  32,  12,  32,  61,  46,  41,  59,\n",
      "        35,  10, 120,  79,  87,   5,  35,  43,  62,  77,  41,  71,  80,\n",
      "        35,  96,  12,  67,  87,  99,   6,  22,   0, 117,  35,  36,  12,\n",
      "        35]), 'C25': array([16,  1, 11, 16,  7,  0, 17,  0, 16,  9, 17, 18,  0,  4, 16, 15, 15,\n",
      "        0,  1, 16,  8,  1,  5,  3,  9, 18, 17,  0,  0,  0,  0,  0, 16,  0,\n",
      "        0, 13, 15,  2, 16,  1]), 'C26': array([59, 35, 24, 23, 16,  0, 51,  0, 56, 62, 33, 71,  0, 24, 49,  8, 21,\n",
      "        0, 47, 45, 72, 61, 10, 71, 29, 48, 24,  0,  0,  0,  0,  0, 86,  0,\n",
      "        0, 36, 24, 76, 60, 24]), 'I1': array([0.02702703, 0.13513514, 0.        , 0.        , 0.02702703,\n",
      "       0.        , 0.08108108, 0.        , 0.05405405, 1.        ,\n",
      "       0.        , 0.        , 0.        , 0.        , 0.        ,\n",
      "       0.        , 0.27027027, 0.10810811, 0.        , 0.        ,\n",
      "       0.        , 0.27027027, 0.        , 0.        , 0.        ,\n",
      "       0.        , 0.05405405, 0.        , 0.        , 0.        ,\n",
      "       0.        , 0.        , 0.05405405, 0.        , 0.        ,\n",
      "       0.02702703, 0.        , 0.        , 0.        , 0.        ]), 'I2': array([6.66222518e-04, 6.66222518e-04, 2.59826782e-01, 3.33111259e-04,\n",
      "       6.16255829e-01, 5.32978015e-03, 7.66155896e-03, 3.33111259e-04,\n",
      "       1.99866755e-03, 3.79746835e-02, 3.33111259e-04, 7.92804797e-02,\n",
      "       3.33111259e-04, 5.99600266e-03, 1.19920053e-02, 0.00000000e+00,\n",
      "       3.99733511e-03, 6.66222518e-04, 3.33111259e-04, 0.00000000e+00,\n",
      "       0.00000000e+00, 6.66222518e-04, 6.66222518e-04, 1.23584277e-01,\n",
      "       1.99866755e-03, 5.99600266e-02, 1.66555630e-03, 1.33244504e-03,\n",
      "       1.29913391e-02, 1.66555630e-02, 8.32778148e-03, 7.09526982e-02,\n",
      "       2.99800133e-03, 1.99866755e-03, 6.66222518e-04, 6.66222518e-03,\n",
      "       3.33111259e-04, 3.99733511e-03, 3.33111259e-04, 5.09660227e-02]), 'I3': array([1.77619893e-03, 1.63410302e-02, 3.55239787e-04, 1.77619893e-03,\n",
      "       1.42095915e-03, 3.19715808e-03, 2.48667851e-03, 1.27886323e-02,\n",
      "       3.90763766e-03, 1.00000000e+00, 1.20781528e-02, 3.55239787e-04,\n",
      "       3.55239787e-04, 1.20781528e-02, 4.61811723e-03, 2.34458259e-02,\n",
      "       1.06571936e-03, 7.10479574e-04, 3.69449378e-02, 0.00000000e+00,\n",
      "       0.00000000e+00, 1.42095915e-03, 3.19715808e-03, 1.42095915e-03,\n",
      "       1.06571936e-03, 1.77619893e-03, 1.88277087e-02, 9.23623446e-02,\n",
      "       0.00000000e+00, 0.00000000e+00, 1.06571936e-03, 0.00000000e+00,\n",
      "       2.13143872e-03, 0.00000000e+00, 7.10479574e-04, 6.39431616e-03,\n",
      "       1.77619893e-03, 3.90763766e-03, 1.06571936e-03, 1.06571936e-03]), 'I4': array([0.08045977, 0.06896552, 0.01149425, 0.06896552, 0.        ,\n",
      "       0.01149425, 0.10344828, 0.25287356, 0.10344828, 0.05747126,\n",
      "       0.03448276, 0.01149425, 0.37931034, 0.12643678, 0.05747126,\n",
      "       0.33333333, 0.03448276, 0.1954023 , 0.31034483, 0.        ,\n",
      "       0.        , 0.04597701, 0.        , 0.01149425, 0.05747126,\n",
      "       0.01149425, 0.16091954, 0.        , 0.        , 0.03448276,\n",
      "       0.02298851, 0.        , 0.03448276, 0.        , 0.05747126,\n",
      "       0.18390805, 0.01149425, 0.05747126, 0.02298851, 0.03448276]), 'I5': array([2.44021185e-03, 2.06176220e-03, 1.33245817e-03, 1.27352252e-02,\n",
      "       5.51905750e-05, 4.05118532e-02, 5.30223739e-04, 9.23259477e-03,\n",
      "       4.73062072e-05, 3.94218393e-06, 0.00000000e+00, 9.10447379e-03,\n",
      "       2.32076368e-02, 3.51642807e-03, 9.73522322e-03, 5.79501038e-03,\n",
      "       2.02234036e-03, 1.37976438e-05, 3.92247301e-03, 4.06951647e-02,\n",
      "       2.75558657e-03, 1.97109197e-06, 1.26760924e-02, 3.52234134e-03,\n",
      "       3.43068557e-02, 2.88567864e-03, 2.95466686e-03, 3.48252528e-02,\n",
      "       8.51610284e-02, 3.41393128e-03, 2.00952826e-02, 3.21682209e-03,\n",
      "       9.85545983e-06, 3.63153984e-02, 1.30348312e-02, 3.50854370e-04,\n",
      "       3.45138203e-03, 8.52497275e-03, 6.20893969e-03, 3.64060686e-03]), 'I6': array([0.00617284, 0.05318139, 0.        , 0.04415954, 0.        ,\n",
      "       0.        , 0.00522317, 0.10303894, 0.0042735 , 0.0014245 ,\n",
      "       0.        , 0.02516619, 0.        , 0.02374169, 0.06647673,\n",
      "       0.04131054, 0.0014245 , 0.00189934, 0.0674264 , 0.        ,\n",
      "       0.        , 0.        , 0.0645774 , 0.0308642 , 0.        ,\n",
      "       0.002849  , 0.00949668, 0.        , 0.32288699, 0.00949668,\n",
      "       0.        , 0.0308642 , 0.0014245 , 0.21889839, 0.04938272,\n",
      "       0.01519468, 0.01756885, 0.02896486, 0.00997151, 0.04558405]), 'I7': array([0.02990033, 0.0166113 , 0.        , 0.06312292, 0.00332226,\n",
      "       0.        , 0.03986711, 0.02990033, 0.3654485 , 0.08637874,\n",
      "       0.        , 0.05647841, 0.        , 0.00332226, 0.00332226,\n",
      "       0.22923588, 0.2923588 , 0.01328904, 0.01328904, 0.        ,\n",
      "       0.00332226, 0.03322259, 0.00664452, 0.04651163, 0.        ,\n",
      "       0.23255814, 0.03654485, 0.        , 0.        , 0.00332226,\n",
      "       0.        , 0.07973422, 0.08305648, 0.07641196, 0.00332226,\n",
      "       0.11295681, 0.00332226, 0.01328904, 0.01328904, 0.03986711]), 'I8': array([0.30612245, 0.87755102, 0.08163265, 0.14285714, 0.        ,\n",
      "       0.24489796, 0.30612245, 0.71428571, 0.18367347, 1.        ,\n",
      "       0.06122449, 0.32653061, 0.02040816, 0.51020408, 0.44897959,\n",
      "       0.71428571, 0.06122449, 0.36734694, 0.65306122, 0.10204082,\n",
      "       0.        , 0.08163265, 0.12244898, 0.51020408, 0.16326531,\n",
      "       0.12244898, 0.3877551 , 0.67346939, 0.04081633, 0.28571429,\n",
      "       0.65306122, 0.02040816, 0.2244898 , 0.08163265, 0.34693878,\n",
      "       0.69387755, 0.16326531, 0.28571429, 0.06122449, 0.12244898]), 'I9': array([0.0860735 , 0.1073501 , 0.00386847, 0.03578337, 0.        ,\n",
      "       0.        , 0.55415861, 0.13056093, 0.14313346, 0.0754352 ,\n",
      "       0.00290135, 0.26305609, 0.48549323, 0.09864603, 0.0589942 ,\n",
      "       0.07930368, 0.12669246, 0.01740812, 0.03578337, 0.00773694,\n",
      "       0.        , 0.00386847, 0.09477756, 0.4729207 , 0.00773694,\n",
      "       0.01547389, 0.09477756, 0.        , 0.01934236, 0.01547389,\n",
      "       0.05319149, 0.10928433, 0.69825919, 0.22340426, 0.07156673,\n",
      "       0.1934236 , 0.0106383 , 0.06576402, 0.02321083, 0.0106383 ]), 'I10': array([0.        , 0.33333333, 0.        , 0.        , 0.33333333,\n",
      "       0.        , 0.33333333, 0.        , 0.33333333, 0.        ,\n",
      "       0.        , 0.        , 0.        , 0.        , 0.        ,\n",
      "       0.        , 0.33333333, 0.33333333, 0.        , 0.        ,\n",
      "       0.        , 0.33333333, 0.        , 0.        , 0.        ,\n",
      "       0.        , 0.        , 0.        , 0.        , 0.        ,\n",
      "       0.        , 0.        , 0.33333333, 0.        , 0.        ,\n",
      "       0.        , 0.        , 0.        , 0.        , 0.        ]), 'I11': array([0.09375, 0.03125, 0.     , 0.03125, 0.03125, 0.     , 0.21875,\n",
      "       0.03125, 0.3125 , 0.03125, 0.     , 0.03125, 0.     , 0.03125,\n",
      "       0.03125, 0.15625, 0.46875, 0.03125, 0.03125, 0.     , 0.03125,\n",
      "       0.03125, 0.03125, 0.21875, 0.     , 0.3125 , 0.09375, 0.     ,\n",
      "       0.     , 0.03125, 0.     , 0.1875 , 0.1875 , 0.0625 , 0.03125,\n",
      "       0.28125, 0.03125, 0.0625 , 0.0625 , 0.03125]), 'I12': array([0.        , 0.        , 0.        , 0.14285714, 0.        ,\n",
      "       0.        , 0.        , 0.        , 0.        , 0.        ,\n",
      "       0.        , 0.        , 0.        , 0.        , 0.        ,\n",
      "       0.        , 0.        , 0.42857143, 0.        , 0.        ,\n",
      "       0.        , 0.        , 0.        , 0.        , 0.        ,\n",
      "       0.        , 1.        , 0.        , 0.        , 0.        ,\n",
      "       0.        , 0.        , 0.        , 0.        , 0.        ,\n",
      "       0.        , 0.        , 0.        , 0.        , 0.        ]), 'I13': array([0.06862745, 0.05882353, 0.00980392, 0.06862745, 0.        ,\n",
      "       0.03921569, 0.08823529, 0.42156863, 0.08823529, 0.02941176,\n",
      "       0.02941176, 0.00980392, 0.32352941, 0.10784314, 0.10784314,\n",
      "       0.31372549, 0.02941176, 0.02941176, 0.26470588, 0.        ,\n",
      "       0.        , 0.        , 0.01960784, 0.24509804, 0.05882353,\n",
      "       0.02941176, 0.1372549 , 0.        , 0.        , 0.02941176,\n",
      "       0.01960784, 0.        , 0.02941176, 0.        , 0.04901961,\n",
      "       0.15686275, 0.00980392, 0.04901961, 0.01960784, 0.02941176])}\n"
     ]
    }
   ],
   "source": [
    "print(test_model_input)"
   ]
  },
  {
   "cell_type": "code",
   "execution_count": null,
   "metadata": {},
   "outputs": [],
   "source": []
  }
 ],
 "metadata": {
  "kernelspec": {
   "display_name": "Python 3",
   "language": "python",
   "name": "python3"
  },
  "language_info": {
   "codemirror_mode": {
    "name": "ipython",
    "version": 3
   },
   "file_extension": ".py",
   "mimetype": "text/x-python",
   "name": "python",
   "nbconvert_exporter": "python",
   "pygments_lexer": "ipython3",
   "version": "3.7.6"
  }
 },
 "nbformat": 4,
 "nbformat_minor": 1
}
