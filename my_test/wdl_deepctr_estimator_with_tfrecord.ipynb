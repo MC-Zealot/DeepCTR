{
 "cells": [
  {
   "cell_type": "markdown",
   "metadata": {},
   "source": [
    "### Getting started: 4 steps to DeepCTR Estimator with TFRecord\n",
    "\n",
    "\n",
    "### Step 1: Import model"
   ]
  },
  {
   "cell_type": "code",
   "execution_count": 1,
   "metadata": {
    "pycharm": {
     "is_executing": true
    }
   },
   "outputs": [],
   "source": [
    "import tensorflow as tf\n",
    "from deepctr.estimator.inputs import input_fn_tfrecord\n",
    "from deepctr.estimator.models import WDLEstimator\n"
   ]
  },
  {
   "cell_type": "markdown",
   "metadata": {
    "pycharm": {
     "name": "#%%\n"
    }
   },
   "source": [
    "### Step 2: Generate feature columns for linear part and dnn part"
   ]
  },
  {
   "cell_type": "code",
   "execution_count": 2,
   "metadata": {},
   "outputs": [],
   "source": [
    "sparse_features = ['C' + str(i) for i in range(1, 27)]\n",
    "dense_features = ['I' + str(i) for i in range(1, 14)]\n",
    "\n",
    "dnn_feature_columns = []\n",
    "linear_feature_columns = []"
   ]
  },
  {
   "cell_type": "code",
   "execution_count": 3,
   "metadata": {},
   "outputs": [],
   "source": [
    "for i, feat in enumerate(sparse_features):\n",
    "    dnn_feature_columns.append(\n",
    "        tf.feature_column.embedding_column(tf.feature_column.categorical_column_with_identity(feat, 1000), 4)\n",
    "    )\n",
    "    linear_feature_columns.append(tf.feature_column.categorical_column_with_identity(feat, 1000))\n",
    "for feat in dense_features:\n",
    "    dnn_feature_columns.append(tf.feature_column.numeric_column(feat))\n",
    "    linear_feature_columns.append(tf.feature_column.numeric_column(feat))"
   ]
  },
  {
   "cell_type": "code",
   "execution_count": 4,
   "metadata": {
    "scrolled": true
   },
   "outputs": [
    {
     "name": "stdout",
     "output_type": "stream",
     "text": [
      "[EmbeddingColumn(categorical_column=IdentityCategoricalColumn(key='C1', number_buckets=1000, default_value=None), dimension=4, combiner='mean', initializer=<tensorflow.python.ops.init_ops.TruncatedNormal object at 0x7fe54573c6d0>, ckpt_to_load_from=None, tensor_name_in_ckpt=None, max_norm=None, trainable=True), EmbeddingColumn(categorical_column=IdentityCategoricalColumn(key='C2', number_buckets=1000, default_value=None), dimension=4, combiner='mean', initializer=<tensorflow.python.ops.init_ops.TruncatedNormal object at 0x7fe54573c710>, ckpt_to_load_from=None, tensor_name_in_ckpt=None, max_norm=None, trainable=True), EmbeddingColumn(categorical_column=IdentityCategoricalColumn(key='C3', number_buckets=1000, default_value=None), dimension=4, combiner='mean', initializer=<tensorflow.python.ops.init_ops.TruncatedNormal object at 0x7fe54573c790>, ckpt_to_load_from=None, tensor_name_in_ckpt=None, max_norm=None, trainable=True), EmbeddingColumn(categorical_column=IdentityCategoricalColumn(key='C4', number_buckets=1000, default_value=None), dimension=4, combiner='mean', initializer=<tensorflow.python.ops.init_ops.TruncatedNormal object at 0x7fe54573c7d0>, ckpt_to_load_from=None, tensor_name_in_ckpt=None, max_norm=None, trainable=True), EmbeddingColumn(categorical_column=IdentityCategoricalColumn(key='C5', number_buckets=1000, default_value=None), dimension=4, combiner='mean', initializer=<tensorflow.python.ops.init_ops.TruncatedNormal object at 0x7fe54573c850>, ckpt_to_load_from=None, tensor_name_in_ckpt=None, max_norm=None, trainable=True), EmbeddingColumn(categorical_column=IdentityCategoricalColumn(key='C6', number_buckets=1000, default_value=None), dimension=4, combiner='mean', initializer=<tensorflow.python.ops.init_ops.TruncatedNormal object at 0x7fe54573c750>, ckpt_to_load_from=None, tensor_name_in_ckpt=None, max_norm=None, trainable=True), EmbeddingColumn(categorical_column=IdentityCategoricalColumn(key='C7', number_buckets=1000, default_value=None), dimension=4, combiner='mean', initializer=<tensorflow.python.ops.init_ops.TruncatedNormal object at 0x7fe54573c910>, ckpt_to_load_from=None, tensor_name_in_ckpt=None, max_norm=None, trainable=True), EmbeddingColumn(categorical_column=IdentityCategoricalColumn(key='C8', number_buckets=1000, default_value=None), dimension=4, combiner='mean', initializer=<tensorflow.python.ops.init_ops.TruncatedNormal object at 0x7fe54573c810>, ckpt_to_load_from=None, tensor_name_in_ckpt=None, max_norm=None, trainable=True), EmbeddingColumn(categorical_column=IdentityCategoricalColumn(key='C9', number_buckets=1000, default_value=None), dimension=4, combiner='mean', initializer=<tensorflow.python.ops.init_ops.TruncatedNormal object at 0x7fe54573c990>, ckpt_to_load_from=None, tensor_name_in_ckpt=None, max_norm=None, trainable=True), EmbeddingColumn(categorical_column=IdentityCategoricalColumn(key='C10', number_buckets=1000, default_value=None), dimension=4, combiner='mean', initializer=<tensorflow.python.ops.init_ops.TruncatedNormal object at 0x7fe54573c8d0>, ckpt_to_load_from=None, tensor_name_in_ckpt=None, max_norm=None, trainable=True), EmbeddingColumn(categorical_column=IdentityCategoricalColumn(key='C11', number_buckets=1000, default_value=None), dimension=4, combiner='mean', initializer=<tensorflow.python.ops.init_ops.TruncatedNormal object at 0x7fe54573c890>, ckpt_to_load_from=None, tensor_name_in_ckpt=None, max_norm=None, trainable=True), EmbeddingColumn(categorical_column=IdentityCategoricalColumn(key='C12', number_buckets=1000, default_value=None), dimension=4, combiner='mean', initializer=<tensorflow.python.ops.init_ops.TruncatedNormal object at 0x7fe54573ca50>, ckpt_to_load_from=None, tensor_name_in_ckpt=None, max_norm=None, trainable=True), EmbeddingColumn(categorical_column=IdentityCategoricalColumn(key='C13', number_buckets=1000, default_value=None), dimension=4, combiner='mean', initializer=<tensorflow.python.ops.init_ops.TruncatedNormal object at 0x7fe54573c950>, ckpt_to_load_from=None, tensor_name_in_ckpt=None, max_norm=None, trainable=True), EmbeddingColumn(categorical_column=IdentityCategoricalColumn(key='C14', number_buckets=1000, default_value=None), dimension=4, combiner='mean', initializer=<tensorflow.python.ops.init_ops.TruncatedNormal object at 0x7fe54573cad0>, ckpt_to_load_from=None, tensor_name_in_ckpt=None, max_norm=None, trainable=True), EmbeddingColumn(categorical_column=IdentityCategoricalColumn(key='C15', number_buckets=1000, default_value=None), dimension=4, combiner='mean', initializer=<tensorflow.python.ops.init_ops.TruncatedNormal object at 0x7fe54573c9d0>, ckpt_to_load_from=None, tensor_name_in_ckpt=None, max_norm=None, trainable=True), EmbeddingColumn(categorical_column=IdentityCategoricalColumn(key='C16', number_buckets=1000, default_value=None), dimension=4, combiner='mean', initializer=<tensorflow.python.ops.init_ops.TruncatedNormal object at 0x7fe54573cb10>, ckpt_to_load_from=None, tensor_name_in_ckpt=None, max_norm=None, trainable=True), EmbeddingColumn(categorical_column=IdentityCategoricalColumn(key='C17', number_buckets=1000, default_value=None), dimension=4, combiner='mean', initializer=<tensorflow.python.ops.init_ops.TruncatedNormal object at 0x7fe54573cb50>, ckpt_to_load_from=None, tensor_name_in_ckpt=None, max_norm=None, trainable=True), EmbeddingColumn(categorical_column=IdentityCategoricalColumn(key='C18', number_buckets=1000, default_value=None), dimension=4, combiner='mean', initializer=<tensorflow.python.ops.init_ops.TruncatedNormal object at 0x7fe54573cb90>, ckpt_to_load_from=None, tensor_name_in_ckpt=None, max_norm=None, trainable=True), EmbeddingColumn(categorical_column=IdentityCategoricalColumn(key='C19', number_buckets=1000, default_value=None), dimension=4, combiner='mean', initializer=<tensorflow.python.ops.init_ops.TruncatedNormal object at 0x7fe54573cbd0>, ckpt_to_load_from=None, tensor_name_in_ckpt=None, max_norm=None, trainable=True), EmbeddingColumn(categorical_column=IdentityCategoricalColumn(key='C20', number_buckets=1000, default_value=None), dimension=4, combiner='mean', initializer=<tensorflow.python.ops.init_ops.TruncatedNormal object at 0x7fe54573cc10>, ckpt_to_load_from=None, tensor_name_in_ckpt=None, max_norm=None, trainable=True), EmbeddingColumn(categorical_column=IdentityCategoricalColumn(key='C21', number_buckets=1000, default_value=None), dimension=4, combiner='mean', initializer=<tensorflow.python.ops.init_ops.TruncatedNormal object at 0x7fe54573cc50>, ckpt_to_load_from=None, tensor_name_in_ckpt=None, max_norm=None, trainable=True), EmbeddingColumn(categorical_column=IdentityCategoricalColumn(key='C22', number_buckets=1000, default_value=None), dimension=4, combiner='mean', initializer=<tensorflow.python.ops.init_ops.TruncatedNormal object at 0x7fe54573cc90>, ckpt_to_load_from=None, tensor_name_in_ckpt=None, max_norm=None, trainable=True), EmbeddingColumn(categorical_column=IdentityCategoricalColumn(key='C23', number_buckets=1000, default_value=None), dimension=4, combiner='mean', initializer=<tensorflow.python.ops.init_ops.TruncatedNormal object at 0x7fe54573ccd0>, ckpt_to_load_from=None, tensor_name_in_ckpt=None, max_norm=None, trainable=True), EmbeddingColumn(categorical_column=IdentityCategoricalColumn(key='C24', number_buckets=1000, default_value=None), dimension=4, combiner='mean', initializer=<tensorflow.python.ops.init_ops.TruncatedNormal object at 0x7fe54573cd10>, ckpt_to_load_from=None, tensor_name_in_ckpt=None, max_norm=None, trainable=True), EmbeddingColumn(categorical_column=IdentityCategoricalColumn(key='C25', number_buckets=1000, default_value=None), dimension=4, combiner='mean', initializer=<tensorflow.python.ops.init_ops.TruncatedNormal object at 0x7fe54573cd50>, ckpt_to_load_from=None, tensor_name_in_ckpt=None, max_norm=None, trainable=True), EmbeddingColumn(categorical_column=IdentityCategoricalColumn(key='C26', number_buckets=1000, default_value=None), dimension=4, combiner='mean', initializer=<tensorflow.python.ops.init_ops.TruncatedNormal object at 0x7fe54573cd90>, ckpt_to_load_from=None, tensor_name_in_ckpt=None, max_norm=None, trainable=True), NumericColumn(key='I1', shape=(1,), default_value=None, dtype=tf.float32, normalizer_fn=None), NumericColumn(key='I2', shape=(1,), default_value=None, dtype=tf.float32, normalizer_fn=None), NumericColumn(key='I3', shape=(1,), default_value=None, dtype=tf.float32, normalizer_fn=None), NumericColumn(key='I4', shape=(1,), default_value=None, dtype=tf.float32, normalizer_fn=None), NumericColumn(key='I5', shape=(1,), default_value=None, dtype=tf.float32, normalizer_fn=None), NumericColumn(key='I6', shape=(1,), default_value=None, dtype=tf.float32, normalizer_fn=None), NumericColumn(key='I7', shape=(1,), default_value=None, dtype=tf.float32, normalizer_fn=None), NumericColumn(key='I8', shape=(1,), default_value=None, dtype=tf.float32, normalizer_fn=None), NumericColumn(key='I9', shape=(1,), default_value=None, dtype=tf.float32, normalizer_fn=None), NumericColumn(key='I10', shape=(1,), default_value=None, dtype=tf.float32, normalizer_fn=None), NumericColumn(key='I11', shape=(1,), default_value=None, dtype=tf.float32, normalizer_fn=None), NumericColumn(key='I12', shape=(1,), default_value=None, dtype=tf.float32, normalizer_fn=None), NumericColumn(key='I13', shape=(1,), default_value=None, dtype=tf.float32, normalizer_fn=None)]\n"
     ]
    }
   ],
   "source": [
    "print(dnn_feature_columns)"
   ]
  },
  {
   "cell_type": "markdown",
   "metadata": {},
   "source": [
    "### Step 3: Generate the training samples with TFRecord format"
   ]
  },
  {
   "cell_type": "code",
   "execution_count": 5,
   "metadata": {},
   "outputs": [],
   "source": [
    "feature_description = {k: tf.io.FixedLenFeature(dtype=tf.int64, shape=1) for k in sparse_features}\n",
    "feature_description.update(\n",
    "    {k: tf.io.FixedLenFeature(dtype=tf.float32, shape=1) for k in dense_features}\n",
    ")\n",
    "feature_description['label'] = tf.io.FixedLenFeature(dtype=tf.float32, shape=1)\n",
    "\n",
    "train_model_input = input_fn_tfrecord('./criteo_sample.tr.tfrecords', feature_description, 'label', batch_size=256,    num_epochs=1, shuffle_factor=10)\n",
    "test_model_input  = input_fn_tfrecord('./criteo_sample.te.tfrecords', feature_description, 'label', batch_size=2 ** 14, num_epochs=1, shuffle_factor=0)"
   ]
  },
  {
   "cell_type": "code",
   "execution_count": 8,
   "metadata": {},
   "outputs": [
    {
     "data": {
      "text/plain": [
       "{'C1': FixedLenFeature(shape=1, dtype=tf.int64, default_value=None),\n",
       " 'C2': FixedLenFeature(shape=1, dtype=tf.int64, default_value=None),\n",
       " 'C3': FixedLenFeature(shape=1, dtype=tf.int64, default_value=None),\n",
       " 'C4': FixedLenFeature(shape=1, dtype=tf.int64, default_value=None),\n",
       " 'C5': FixedLenFeature(shape=1, dtype=tf.int64, default_value=None),\n",
       " 'C6': FixedLenFeature(shape=1, dtype=tf.int64, default_value=None),\n",
       " 'C7': FixedLenFeature(shape=1, dtype=tf.int64, default_value=None),\n",
       " 'C8': FixedLenFeature(shape=1, dtype=tf.int64, default_value=None),\n",
       " 'C9': FixedLenFeature(shape=1, dtype=tf.int64, default_value=None),\n",
       " 'C10': FixedLenFeature(shape=1, dtype=tf.int64, default_value=None),\n",
       " 'C11': FixedLenFeature(shape=1, dtype=tf.int64, default_value=None),\n",
       " 'C12': FixedLenFeature(shape=1, dtype=tf.int64, default_value=None),\n",
       " 'C13': FixedLenFeature(shape=1, dtype=tf.int64, default_value=None),\n",
       " 'C14': FixedLenFeature(shape=1, dtype=tf.int64, default_value=None),\n",
       " 'C15': FixedLenFeature(shape=1, dtype=tf.int64, default_value=None),\n",
       " 'C16': FixedLenFeature(shape=1, dtype=tf.int64, default_value=None),\n",
       " 'C17': FixedLenFeature(shape=1, dtype=tf.int64, default_value=None),\n",
       " 'C18': FixedLenFeature(shape=1, dtype=tf.int64, default_value=None),\n",
       " 'C19': FixedLenFeature(shape=1, dtype=tf.int64, default_value=None),\n",
       " 'C20': FixedLenFeature(shape=1, dtype=tf.int64, default_value=None),\n",
       " 'C21': FixedLenFeature(shape=1, dtype=tf.int64, default_value=None),\n",
       " 'C22': FixedLenFeature(shape=1, dtype=tf.int64, default_value=None),\n",
       " 'C23': FixedLenFeature(shape=1, dtype=tf.int64, default_value=None),\n",
       " 'C24': FixedLenFeature(shape=1, dtype=tf.int64, default_value=None),\n",
       " 'C25': FixedLenFeature(shape=1, dtype=tf.int64, default_value=None),\n",
       " 'C26': FixedLenFeature(shape=1, dtype=tf.int64, default_value=None),\n",
       " 'I1': FixedLenFeature(shape=1, dtype=tf.float32, default_value=None),\n",
       " 'I2': FixedLenFeature(shape=1, dtype=tf.float32, default_value=None),\n",
       " 'I3': FixedLenFeature(shape=1, dtype=tf.float32, default_value=None),\n",
       " 'I4': FixedLenFeature(shape=1, dtype=tf.float32, default_value=None),\n",
       " 'I5': FixedLenFeature(shape=1, dtype=tf.float32, default_value=None),\n",
       " 'I6': FixedLenFeature(shape=1, dtype=tf.float32, default_value=None),\n",
       " 'I7': FixedLenFeature(shape=1, dtype=tf.float32, default_value=None),\n",
       " 'I8': FixedLenFeature(shape=1, dtype=tf.float32, default_value=None),\n",
       " 'I9': FixedLenFeature(shape=1, dtype=tf.float32, default_value=None),\n",
       " 'I10': FixedLenFeature(shape=1, dtype=tf.float32, default_value=None),\n",
       " 'I11': FixedLenFeature(shape=1, dtype=tf.float32, default_value=None),\n",
       " 'I12': FixedLenFeature(shape=1, dtype=tf.float32, default_value=None),\n",
       " 'I13': FixedLenFeature(shape=1, dtype=tf.float32, default_value=None),\n",
       " 'label': FixedLenFeature(shape=1, dtype=tf.float32, default_value=None)}"
      ]
     },
     "execution_count": 8,
     "metadata": {},
     "output_type": "execute_result"
    }
   ],
   "source": [
    "feature_description"
   ]
  },
  {
   "cell_type": "markdown",
   "metadata": {},
   "source": [
    "### Step 4: Train and evaluate the model"
   ]
  },
  {
   "cell_type": "code",
   "execution_count": 7,
   "metadata": {},
   "outputs": [
    {
     "name": "stdout",
     "output_type": "stream",
     "text": [
      "INFO:tensorflow:Using default config.\n",
      "WARNING:tensorflow:Using temporary folder as model directory: /tmp/tmpi2b63iqo\n",
      "INFO:tensorflow:Using config: {'_model_dir': '/tmp/tmpi2b63iqo', '_tf_random_seed': None, '_save_summary_steps': 100, '_save_checkpoints_steps': None, '_save_checkpoints_secs': 600, '_session_config': allow_soft_placement: true\n",
      "graph_options {\n",
      "  rewrite_options {\n",
      "    meta_optimizer_iterations: ONE\n",
      "  }\n",
      "}\n",
      ", '_keep_checkpoint_max': 5, '_keep_checkpoint_every_n_hours': 10000, '_log_step_count_steps': 100, '_train_distribute': None, '_device_fn': None, '_protocol': None, '_eval_distribute': None, '_experimental_distribute': None, '_experimental_max_worker_delay_secs': None, '_session_creation_timeout_secs': 7200, '_service': None, '_cluster_spec': <tensorflow.python.training.server_lib.ClusterSpec object at 0x7fe539ee4c10>, '_task_type': 'worker', '_task_id': 0, '_global_id_in_cluster': 0, '_master': '', '_evaluation_master': '', '_is_chief': True, '_num_ps_replicas': 0, '_num_worker_replicas': 1}\n",
      "INFO:tensorflow:Calling model_fn.\n",
      "INFO:tensorflow:Done calling model_fn.\n",
      "INFO:tensorflow:Create CheckpointSaverHook.\n",
      "INFO:tensorflow:Graph was finalized.\n",
      "INFO:tensorflow:Running local_init_op.\n",
      "INFO:tensorflow:Done running local_init_op.\n",
      "INFO:tensorflow:Saving checkpoints for 0 into /tmp/tmpi2b63iqo/model.ckpt.\n",
      "INFO:tensorflow:loss = 108.977646, step = 0\n",
      "INFO:tensorflow:Saving checkpoints for 1 into /tmp/tmpi2b63iqo/model.ckpt.\n",
      "INFO:tensorflow:Loss for final step: 108.977646.\n",
      "INFO:tensorflow:Calling model_fn.\n",
      "INFO:tensorflow:Done calling model_fn.\n",
      "INFO:tensorflow:Starting evaluation at 2020-09-09T00:39:08Z\n",
      "INFO:tensorflow:Graph was finalized.\n",
      "INFO:tensorflow:Restoring parameters from /tmp/tmpi2b63iqo/model.ckpt-1\n",
      "INFO:tensorflow:Running local_init_op.\n",
      "INFO:tensorflow:Done running local_init_op.\n",
      "INFO:tensorflow:Finished evaluation at 2020-09-09-00:39:11\n",
      "INFO:tensorflow:Saving dict for global step 1: AUC = 0.5922619, LogLoss = 0.638329, global_step = 1, label/mean = 0.3, loss = 25.537363, prediction/mean = 0.42911854\n",
      "INFO:tensorflow:Saving 'checkpoint_path' summary for global step 1: /tmp/tmpi2b63iqo/model.ckpt-1\n",
      "{'AUC': 0.5922619, 'LogLoss': 0.638329, 'label/mean': 0.3, 'loss': 25.537363, 'prediction/mean': 0.42911854, 'global_step': 1}\n"
     ]
    }
   ],
   "source": [
    "# model = DeepFMEstimator(linear_feature_columns, dnn_feature_columns, task='binary')\n",
    "model = WDLEstimator(linear_feature_columns, dnn_feature_columns, dnn_hidden_units=[4, 4], dnn_dropout=0.5)\n",
    "\n",
    "model.train(train_model_input)\n",
    "eval_result = model.evaluate(test_model_input)\n",
    "\n",
    "print(eval_result)"
   ]
  },
  {
   "cell_type": "code",
   "execution_count": null,
   "metadata": {},
   "outputs": [],
   "source": []
  }
 ],
 "metadata": {
  "kernelspec": {
   "display_name": "Python 3",
   "language": "python",
   "name": "python3"
  },
  "language_info": {
   "codemirror_mode": {
    "name": "ipython",
    "version": 3
   },
   "file_extension": ".py",
   "mimetype": "text/x-python",
   "name": "python",
   "nbconvert_exporter": "python",
   "pygments_lexer": "ipython3",
   "version": "3.7.7"
  }
 },
 "nbformat": 4,
 "nbformat_minor": 1
}