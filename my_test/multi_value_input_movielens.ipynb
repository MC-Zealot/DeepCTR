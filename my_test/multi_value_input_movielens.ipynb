{
 "cells": [
  {
   "cell_type": "markdown",
   "metadata": {
    "collapsed": true
   },
   "source": [
    "### VarLenSparseFeat\n",
    "VarLenSparseFeat is a namedtuple with signature VarLenSparseFeat(sparsefeat, maxlen, combiner, length_name, weight_name,weight_norm)\n",
    "\n",
    "**sparsefeat** : a instance of SparseFeat\n",
    "\n",
    "**maxlen** : maximum length of this feature for all samples\n",
    "\n",
    "**combiner** : pooling method,can be sum,mean or max\n",
    "\n",
    "**length_name** : feature length name,if None, value 0 in feature is for padding.\n",
    "\n",
    "**weight_name** : default None. If not None, the sequence feature will be multiplyed by the feature whose name is weight_name.\n",
    "\n",
    "**weight_norm** : default True. Whether normalize the weight score or not."
   ]
  },
  {
   "cell_type": "markdown",
   "metadata": {},
   "source": [
    "### Multi-value Input : Movielens\n",
    "\n",
    "1.There are 2 additional steps to use DeepCTR with sequence feature input.\n",
    "\n",
    "2.Generate the paded and encoded sequence feature of sequence input feature(value 0 is for padding).\n",
    "Generate config of sequence feature with VarLenSparseFeat\n"
   ]
  },
  {
   "cell_type": "code",
   "execution_count": null,
   "metadata": {},
   "outputs": [],
   "source": [
    "import numpy as np\n",
    "import pandas as pd\n",
    "from sklearn.preprocessing import LabelEncoder\n"
   ]
  }
 ],
 "metadata": {
  "kernelspec": {
   "display_name": "Python 3",
   "language": "python",
   "name": "python3"
  },
  "language_info": {
   "codemirror_mode": {
    "name": "ipython",
    "version": 3
   },
   "file_extension": ".py",
   "mimetype": "text/x-python",
   "name": "python",
   "nbconvert_exporter": "python",
   "pygments_lexer": "ipython3",
   "version": "3.7.6"
  }
 },
 "nbformat": 4,
 "nbformat_minor": 1
}